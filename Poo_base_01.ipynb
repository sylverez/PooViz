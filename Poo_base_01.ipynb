{
 "cells": [
  {
   "cell_type": "markdown",
   "metadata": {},
   "source": [
    "# Classe : 101\n"
   ]
  },
  {
   "cell_type": "markdown",
   "metadata": {},
   "source": [
    "## Classes et attributs"
   ]
  },
  {
   "cell_type": "markdown",
   "metadata": {},
   "source": [
    "Une classe est un template d'objets.\n",
    "Un objet est une instance de classe.\n",
    "\n",
    "La classe définie les attributs de ses instances, et peut également définir des attributs propre à elle-même\n"
   ]
  },
  {
   "cell_type": "markdown",
   "metadata": {},
   "source": [
    "### Définition des attributs d'instance sous le def __init__(self):\n"
   ]
  },
  {
   "cell_type": "code",
   "execution_count": 5,
   "metadata": {},
   "outputs": [],
   "source": [
    "class NomDeClasse_1:\n",
    "    \n",
    "    \"\"\"\n",
    "    Ceci est une classe python construite afin de résumer les notions élémentaires de POO\n",
    "    \"\"\"\n",
    "    \n",
    "    def __init__(self):\n",
    "        \n",
    "        #action qui se réalise lors de l'instanciation d'un objet de classe NomDeClasse\n",
    "        print(\"instanciation d 'un objet de classe NomDeClasse\")\n",
    "        \n",
    "        #Création d'attributs\n",
    "        \n",
    "        self.attribut1 = \"attribut_1\"\n",
    "        \n",
    "        self.attribut2 = \"attribut_2\"\n",
    "        \n",
    "        self.attribut3 = \"attribut_3\"       "
   ]
  },
  {
   "cell_type": "code",
   "execution_count": 6,
   "metadata": {},
   "outputs": [
    {
     "name": "stdout",
     "output_type": "stream",
     "text": [
      "instanciation d 'un objet de classe NomDeClasse\n"
     ]
    }
   ],
   "source": [
    "C_1 = NomDeClasse_1()"
   ]
  },
  {
   "cell_type": "code",
   "execution_count": 31,
   "metadata": {},
   "outputs": [
    {
     "name": "stdout",
     "output_type": "stream",
     "text": [
      " attribut1 de l'objetC_1 =>\t attribut_1\n"
     ]
    }
   ],
   "source": [
    "print(\" attribut1 de l'objetC_1 =>\\t {}\".format(C_1.attribut1))"
   ]
  },
  {
   "cell_type": "markdown",
   "metadata": {},
   "source": [
    "### Définition des attributs d'instance dans le def __init__(self)\n"
   ]
  },
  {
   "cell_type": "code",
   "execution_count": 32,
   "metadata": {},
   "outputs": [],
   "source": [
    "class NomDeClasse_2:\n",
    "    \n",
    "    \"\"\"\n",
    "    Ceci est une classe python construite afin de résumer les notions élémentaires de POO\n",
    "    \"\"\"\n",
    "    \n",
    "    def __init__(self, attribut1, attribut2, attribut3):\n",
    "        \n",
    "        #action qui se réalise lors de l'instanciation d'un objet de classe NomDeClasse\n",
    "        print(\"instanciation d 'un objet de classe NomDeClasse_2\")\n",
    "        \n",
    "        #Création d'attributs : ils corresponderont aux arguments passé lors de l'instanciation d'un objet\n",
    "        #de classe NomDeClasse2\n",
    "        \n",
    "        self.attribut1 = attribut1\n",
    "        \n",
    "        self.attribut2 = attribut2\n",
    "        \n",
    "        self.attribut3 = attribut3   "
   ]
  },
  {
   "cell_type": "code",
   "execution_count": 17,
   "metadata": {},
   "outputs": [
    {
     "name": "stdout",
     "output_type": "stream",
     "text": [
      "instanciation d 'un objet de classe NomDeClasse\n"
     ]
    }
   ],
   "source": [
    "C_2 = NomDeClasse_2(\"string\",3.14, 4)"
   ]
  },
  {
   "cell_type": "code",
   "execution_count": 29,
   "metadata": {},
   "outputs": [
    {
     "name": "stdout",
     "output_type": "stream",
     "text": [
      " attribut1 de l'objet C_2 (string) \t=>\tstring\n",
      " attribut2 de l'objet C_2 (float) \t=>\t3.14\n",
      " attribut3 de l'objet C_2 (int)\t\t=> \t4\n"
     ]
    }
   ],
   "source": [
    "print(\" attribut1 de l'objet C_2 (string) \\t=>\\t{}\".format(C_2.attribut1),\n",
    "\" attribut2 de l'objet C_2 (float) \\t=>\\t{}\".format(C_2.attribut2),\n",
    "\" attribut3 de l'objet C_2 (int)\\t\\t=> \\t{}\".format(C_2.attribut3), sep='\\n')"
   ]
  },
  {
   "cell_type": "markdown",
   "metadata": {},
   "source": [
    "### Définition des attributs de classe \n"
   ]
  },
  {
   "cell_type": "code",
   "execution_count": 61,
   "metadata": {},
   "outputs": [],
   "source": [
    "class NomDeClasse_3:\n",
    "    \n",
    "    \"\"\"\n",
    "    Ceci est une classe python construite afin de résumer les notions élémentaires de POO\n",
    "    \"\"\"\n",
    "    \n",
    "    #création d'un attribut de classe, propre à la classe NomdeClasse3\n",
    "    \n",
    "    nb_objet_NdC_3 = 0\n",
    "    \n",
    "    def __init__(self, attribut1, attribut2, attribut3):\n",
    "        \n",
    "        #action qui se réalise lors de l'instanciation d'un objet de classe NomDeClasse\n",
    "        print(\"instanciation d 'un objet de classe NomDeClasse_3\")\n",
    "        \n",
    "        #Création d'attributs propre à l'objet\n",
    "        \n",
    "        self.attribut1 = attribut1\n",
    "        \n",
    "        self.attribut2 = attribut2\n",
    "        \n",
    "        self.attribut3 = attribut3   \n",
    "        \n",
    "        #modification de l'attribut de classe nb_objet_NdC_3 (simple compteur)\n",
    "        \n",
    "        NomDeClasse_3.nb_objet_NdC_3 += 1"
   ]
  },
  {
   "cell_type": "code",
   "execution_count": 62,
   "metadata": {},
   "outputs": [
    {
     "name": "stdout",
     "output_type": "stream",
     "text": [
      "nombre d'objet de classe NomDeClasse_3 = 0 \n",
      "\n",
      "instanciation d 'un objet de classe NomDeClasse_3\n",
      "nombre d'objet de classe NomDeClasse_3 = 1 \n",
      "\n",
      "instanciation d 'un objet de classe NomDeClasse_3\n",
      "nombre d'objet de classe NomDeClasse_3 = 2 \n",
      "\n",
      "instanciation d 'un objet de classe NomDeClasse_3\n",
      "nombre d'objet de classe NomDeClasse_3 = 3 \n",
      "\n"
     ]
    }
   ],
   "source": [
    "print(\"nombre d'objet de classe NomDeClasse_3 = {} \\n\".format(NomDeClasse_3.nb_objet_NdC_3))\n",
    "C_3_1 = NomDeClasse_3(1,2,3)\n",
    "print(\"nombre d'objet de classe NomDeClasse_3 = {} \\n\".format(NomDeClasse_3.nb_objet_NdC_3))\n",
    "C_3_2 = NomDeClasse_3(4,5,6)\n",
    "print(\"nombre d'objet de classe NomDeClasse_3 = {} \\n\".format(NomDeClasse_3.nb_objet_NdC_3))\n",
    "C_3_3 = NomDeClasse_3(7,8,9)\n",
    "print(\"nombre d'objet de classe NomDeClasse_3 = {} \\n\".format(NomDeClasse_3.nb_objet_NdC_3))"
   ]
  },
  {
   "cell_type": "markdown",
   "metadata": {},
   "source": [
    "## Classes et méthodes"
   ]
  },
  {
   "cell_type": "markdown",
   "metadata": {},
   "source": [
    "Une méthode est une fonction.\n",
    "\n",
    "\n",
    "Il existe des méthodes d'instance, qui jouerons sur les attributs d'instances => signalé par \"self\"\n",
    "\n",
    "\n",
    "Il existe des méthodes de classe, qui s'appliquerons sur les attributs de classes  => signalé par \"cls\"\n",
    "\n",
    "\n",
    "Il existe des méthodes statique, externe aux classes mais liées à ces dernières"
   ]
  },
  {
   "cell_type": "markdown",
   "metadata": {},
   "source": [
    "### Méthodes d'instances"
   ]
  },
  {
   "cell_type": "code",
   "execution_count": 89,
   "metadata": {},
   "outputs": [],
   "source": [
    "class NomDeClasse_4:\n",
    "    \n",
    "    \"\"\"\n",
    "    Docstring\n",
    "    \"\"\"\n",
    "           \n",
    "    attribut_de_classe = 0\n",
    "    \n",
    "    def __init__(self, o_att_1, o_att_2):\n",
    "        \n",
    "        self.attribut1 = o_att_1\n",
    "        \n",
    "        self.attribut2 = o_att_2\n",
    "        \n",
    "    # Méthode d'instance\n",
    "    \n",
    "    def se_presenter(self, message):\n",
    "        \n",
    "        print(\"l'objet {} possède l'attribut {} et {}\".format(self, self.attribut1, self.attribut2), \"\\n\",\n",
    "             \"\\nl'objet {} utilise la méthode 'se_presenter' pour imprimer ce message :\\n\\n{}\".format(self, message))  "
   ]
  },
  {
   "cell_type": "code",
   "execution_count": 90,
   "metadata": {},
   "outputs": [],
   "source": [
    "instance = NomDeClasse_4(\"attribut_1\", \"1337_5p34k\")"
   ]
  },
  {
   "cell_type": "code",
   "execution_count": 91,
   "metadata": {},
   "outputs": [
    {
     "name": "stdout",
     "output_type": "stream",
     "text": [
      "l'objet <__main__.NomDeClasse_4 object at 0x7fe34448d128> possède l'attribut attribut_1 et 1337_5p34k \n",
      " \n",
      "l'objet <__main__.NomDeClasse_4 object at 0x7fe34448d128> utilise la méthode 'se_presenter' pour imprimer ce message :\n",
      "\n",
      "ceci est un message\n"
     ]
    }
   ],
   "source": [
    "instance.se_presenter(\"ceci est un message\")"
   ]
  },
  {
   "cell_type": "markdown",
   "metadata": {},
   "source": [
    "### Méthodes de classe"
   ]
  },
  {
   "cell_type": "code",
   "execution_count": 123,
   "metadata": {},
   "outputs": [],
   "source": [
    "class NomDeClasse_5:\n",
    "    \n",
    "    \"\"\"\n",
    "    Docstring\n",
    "    \"\"\"\n",
    "    \n",
    "    att_de_classe = \"attributs de classe\"\n",
    "          \n",
    "    \n",
    "    def __init__(self, o_att_1, o_att_2):\n",
    "        \n",
    "        self.attribut1 = o_att_1\n",
    "        \n",
    "        self.attribut2 = o_att_2\n",
    "        \n",
    "    # Méthode d'instance\n",
    "    \n",
    "    def se_presenter(self, message):\n",
    "        \n",
    "        print(\"l'objet {} possède l'attribut {} et {}\".format(self, self.attribut1, self.attribut2), \"\\n\",\n",
    "             \"\\nl'objet {} utilise la méthode 'se_presenter' pour imprimer ce message :\\n\\n{}\".format(self, message)) \n",
    "        \n",
    "    # Méthode de classe\n",
    "    \n",
    "    # tout d'abord écrire la fonction souhaité\n",
    "    def modifier_class_attribute(clf, nouvel_att_de_class):\n",
    "        NomDeClasse_5.att_de_classe = nouvel_att_de_class\n",
    "    # puis définir cette fonction comme une méthode de classe\n",
    "    \n",
    "    modifier_class_attribute = classmethod(modifier_class_attribute)"
   ]
  },
  {
   "cell_type": "code",
   "execution_count": 117,
   "metadata": {},
   "outputs": [],
   "source": [
    "instance = NomDeClasse_5(\"encore un attribut 1\", \"et un autre attribut 2\")"
   ]
  },
  {
   "cell_type": "code",
   "execution_count": 118,
   "metadata": {},
   "outputs": [
    {
     "name": "stdout",
     "output_type": "stream",
     "text": [
      "att 1 = encore un attribut 1\n",
      "att 2 = et un autre attribut 2\n",
      "attribut de classe = attributs de classe\n"
     ]
    }
   ],
   "source": [
    "print(\"att 1 = {}\".format(instance.attribut1),\n",
    "      \"att 2 = {}\".format(instance.attribut2),\n",
    "      \"attribut de classe = {}\".format(NomDeClasse_5.att_de_classe),\n",
    "      sep = \"\\n\")"
   ]
  },
  {
   "cell_type": "code",
   "execution_count": 119,
   "metadata": {},
   "outputs": [],
   "source": [
    "instance2 = NomDeClasse_5(\"un autre att 1\", \"et un nouveau attribut 2\")"
   ]
  },
  {
   "cell_type": "code",
   "execution_count": 120,
   "metadata": {},
   "outputs": [
    {
     "name": "stdout",
     "output_type": "stream",
     "text": [
      "att 1 = un autre att 1\n",
      "att 2 = et un nouveau attribut 2\n",
      "attribut de classe = attributs de classe\n"
     ]
    }
   ],
   "source": [
    "print(\"att 1 = {}\".format(instance2.attribut1),\n",
    "      \"att 2 = {}\".format(instance2.attribut2),\n",
    "      \"attribut de classe = {}\".format(NomDeClasse_5.att_de_classe),\n",
    "      sep = \"\\n\")"
   ]
  },
  {
   "cell_type": "markdown",
   "metadata": {},
   "source": [
    "Remarque : on instancié deux nouveaux objets de classe 5, chacun porteur d'attributs distincts, mais l'attribut de classe n'as jamais été modifié.\n",
    "\n",
    "On va à présent modifier l'attribut de classe en utilisant la méthode de classe \"modifier_classe_attribut"
   ]
  },
  {
   "cell_type": "code",
   "execution_count": 125,
   "metadata": {},
   "outputs": [],
   "source": [
    "NomDeClasse_5.modifier_class_attribute(nouvel_att_de_class='test')"
   ]
  },
  {
   "cell_type": "code",
   "execution_count": 126,
   "metadata": {},
   "outputs": [],
   "source": [
    "instance3 = NomDeClasse_5(\"un autre autre att 1\", \"et un nouveau et différent attribut 2\")"
   ]
  },
  {
   "cell_type": "code",
   "execution_count": 127,
   "metadata": {},
   "outputs": [
    {
     "name": "stdout",
     "output_type": "stream",
     "text": [
      "att 1 = un autre autre att 1\n",
      "att 2 = et un nouveau et différent attribut 2\n",
      "attribut de classe = test\n"
     ]
    }
   ],
   "source": [
    "print(\"att 1 = {}\".format(instance3.attribut1),\n",
    "      \"att 2 = {}\".format(instance3.attribut2),\n",
    "      \"attribut de classe = {}\".format(NomDeClasse_5.att_de_classe),\n",
    "      sep = \"\\n\")"
   ]
  },
  {
   "cell_type": "markdown",
   "metadata": {},
   "source": [
    "### Méthode statique"
   ]
  },
  {
   "cell_type": "code",
   "execution_count": 128,
   "metadata": {},
   "outputs": [],
   "source": [
    "class NomDeClasse_6:\n",
    "    \n",
    "    \"\"\"\n",
    "    Docstring\n",
    "    \"\"\"\n",
    "    \n",
    "    att_de_classe = \"attributs de classe\"\n",
    "          \n",
    "    \n",
    "    def __init__(self, o_att_1, o_att_2):\n",
    "        \n",
    "        self.attribut1 = o_att_1\n",
    "        \n",
    "        self.attribut2 = o_att_2\n",
    "        \n",
    "    # Méthode d'instance\n",
    "    \n",
    "    def se_presenter(self, message):\n",
    "        \n",
    "        print(\"l'objet {} possède l'attribut {} et {}\".format(self, self.attribut1, self.attribut2), \"\\n\",\n",
    "             \"\\nl'objet {} utilise la méthode 'se_presenter' pour imprimer ce message :\\n\\n{}\".format(self, message)) \n",
    "        \n",
    "    # Méthode de classe\n",
    "    \n",
    "    # tout d'abord écrire la fonction souhaité\n",
    "    def modifier_class_attribute(clf, nouvel_att_de_class):\n",
    "        NomDeClasse_5.att_de_classe = nouvel_att_de_class\n",
    "    # puis définir cette fonction comme une méthode de classe\n",
    "    \n",
    "    modifier_class_attribute = classmethod(modifier_class_attribute)\n",
    "    \n",
    "    #Méthode statique\n",
    "    \n",
    "    # tout d'abord écrire la fonction souhaité\n",
    "    \n",
    "    def definition():\n",
    "        print(\"exemple de méthode statique\")\n",
    "    \n",
    "    # puis la définir comme une méthode statique    \n",
    "    definition = staticmethod(definition)"
   ]
  },
  {
   "cell_type": "code",
   "execution_count": 129,
   "metadata": {},
   "outputs": [],
   "source": [
    "instance = NomDeClasse_6(2, 3)"
   ]
  },
  {
   "cell_type": "code",
   "execution_count": 131,
   "metadata": {},
   "outputs": [
    {
     "name": "stdout",
     "output_type": "stream",
     "text": [
      "exemple de méthode statique\n"
     ]
    }
   ],
   "source": [
    "instance.definition()\n",
    "#utilisation de la méthode statique appliqué à une instance de classe"
   ]
  },
  {
   "cell_type": "code",
   "execution_count": 134,
   "metadata": {},
   "outputs": [
    {
     "name": "stdout",
     "output_type": "stream",
     "text": [
      "exemple de méthode statique\n"
     ]
    }
   ],
   "source": [
    "NomDeClasse_6.definition()\n",
    "#utilisqtion de la méthode statique appliqué à une classe"
   ]
  },
  {
   "cell_type": "code",
   "execution_count": null,
   "metadata": {},
   "outputs": [],
   "source": []
  }
 ],
 "metadata": {
  "kernelspec": {
   "display_name": "Python 3",
   "language": "python",
   "name": "python3"
  },
  "language_info": {
   "codemirror_mode": {
    "name": "ipython",
    "version": 3
   },
   "file_extension": ".py",
   "mimetype": "text/x-python",
   "name": "python",
   "nbconvert_exporter": "python",
   "pygments_lexer": "ipython3",
   "version": "3.7.3"
  }
 },
 "nbformat": 4,
 "nbformat_minor": 2
}
