{
 "cells": [
  {
   "cell_type": "markdown",
   "metadata": {},
   "source": [
    "# Propriété"
   ]
  },
  {
   "cell_type": "markdown",
   "metadata": {},
   "source": [
    "## Généralités"
   ]
  },
  {
   "cell_type": "markdown",
   "metadata": {},
   "source": [
    "Les propriétés sont des fonctions interne à une classe permettant de contrôler comment les attributs sont modifiés.\n",
    "\n",
    "Principe d'encapsulation."
   ]
  },
  {
   "cell_type": "markdown",
   "metadata": {},
   "source": [
    "Convention  : pour rendre le code plus visible, les attributs soumis à une propriété sont notés avec le symbole _ devant son nom. Les méthodes/fonctions associées à cette propriété suivent également cette convention."
   ]
  },
  {
   "cell_type": "markdown",
   "metadata": {},
   "source": [
    "Il est recommandé d'utiliser des propriétés exclusivement pour les attributs qu'on souhaite contrôler précisément."
   ]
  },
  {
   "cell_type": "markdown",
   "metadata": {},
   "source": [
    "Les propriétés se divisent en quatre grand \"type\" : getter, setter, deleter et helper.\n"
   ]
  },
  {
   "cell_type": "code",
   "execution_count": 70,
   "metadata": {},
   "outputs": [],
   "source": [
    "class Nom_de_Classe:\n",
    "    \n",
    "    def __init__(self, input1, input2):\n",
    "        \n",
    "        print(\"instanciation d'un objet de classe Nom_de_classe, de paramètre {} et {}\".format(input1, input2))\n",
    "        \n",
    "        self.attribut1 = input1\n",
    "        self._attribut2 = input2\n",
    "        \n",
    "    #définition de la fonction de la propriété (ici simple \"getter\") \n",
    "        \n",
    "    def _getatt2(self):\n",
    "        print(\"ce message s'affiche car la compilation du code passe par la fonction de la propriété afin\",\n",
    "              \"d'accéder à l'attribut2. L'attribut2 est : \\n\", sep = \"\\n\")\n",
    "        return self._attribut2\n",
    "    \n",
    "    #définition de la propriété \n",
    "    \n",
    "    attribut2 = property(_getatt2)\n",
    "    "
   ]
  },
  {
   "cell_type": "code",
   "execution_count": 71,
   "metadata": {},
   "outputs": [
    {
     "name": "stdout",
     "output_type": "stream",
     "text": [
      "instanciation d'un objet de classe Nom_de_classe, de paramètre truc et machin\n"
     ]
    }
   ],
   "source": [
    "Objet1 = Nom_de_Classe(\"truc\", \"machin\")"
   ]
  },
  {
   "cell_type": "code",
   "execution_count": 72,
   "metadata": {},
   "outputs": [
    {
     "name": "stdout",
     "output_type": "stream",
     "text": [
      "truc\n"
     ]
    }
   ],
   "source": [
    "print(Objet1.attribut1)"
   ]
  },
  {
   "cell_type": "code",
   "execution_count": 73,
   "metadata": {},
   "outputs": [
    {
     "name": "stdout",
     "output_type": "stream",
     "text": [
      "ce message s'affiche car la compilation du code passe par la fonction de la propriété afin\n",
      "d'accéder à l'attribut2. L'attribut2 est : \n",
      "\n",
      "machin\n"
     ]
    }
   ],
   "source": [
    "print(Objet1.attribut2)"
   ]
  },
  {
   "cell_type": "code",
   "execution_count": 74,
   "metadata": {},
   "outputs": [
    {
     "data": {
      "text/plain": [
       "'machin'"
      ]
     },
     "execution_count": 74,
     "metadata": {},
     "output_type": "execute_result"
    }
   ],
   "source": [
    "Objet1._attribut2"
   ]
  },
  {
   "cell_type": "code",
   "execution_count": 75,
   "metadata": {},
   "outputs": [
    {
     "name": "stdout",
     "output_type": "stream",
     "text": [
      "ce message s'affiche car la compilation du code passe par la fonction de la propriété afin\n",
      "d'accéder à l'attribut2. L'attribut2 est : \n",
      "\n"
     ]
    },
    {
     "data": {
      "text/plain": [
       "'machin'"
      ]
     },
     "execution_count": 75,
     "metadata": {},
     "output_type": "execute_result"
    }
   ],
   "source": [
    "Objet1.attribut2"
   ]
  },
  {
   "cell_type": "markdown",
   "metadata": {},
   "source": [
    "## Getter"
   ]
  },
  {
   "cell_type": "markdown",
   "metadata": {},
   "source": [
    "utilisation d'un getter pour formater le message lorsqu'on print objet.attribut2.\n",
    "\n",
    "Ici attribut 2 est l'âge."
   ]
  },
  {
   "cell_type": "code",
   "execution_count": 113,
   "metadata": {},
   "outputs": [],
   "source": [
    "class Human:\n",
    "    def __init__(self, nom, age):\n",
    "        \n",
    "        print(\"création d'un nouvel humain : son nom est {}.\".format(nom))\n",
    "        \n",
    "        self.nom = nom\n",
    "        self._age = age\n",
    "        \n",
    "    # définition de la fonction getter portant sur l'attribut age\n",
    "    \n",
    "    def _getage(self):\n",
    "        if self._age <= 1:\n",
    "            return \"{} {}\".format(self._age, \"an\")\n",
    "        else:\n",
    "            return \"{} {}\".format(self._age, \"ans\")\n",
    "    # définition de la propriété\n",
    "    \n",
    "    age = property(_getage)"
   ]
  },
  {
   "cell_type": "code",
   "execution_count": 114,
   "metadata": {},
   "outputs": [
    {
     "name": "stdout",
     "output_type": "stream",
     "text": [
      "création d'un nouvel humain : son nom est Bob.\n"
     ]
    }
   ],
   "source": [
    "h1 = Human(\"Bob\",30)"
   ]
  },
  {
   "cell_type": "code",
   "execution_count": 115,
   "metadata": {},
   "outputs": [
    {
     "name": "stdout",
     "output_type": "stream",
     "text": [
      "Bob a 30 ans\n"
     ]
    }
   ],
   "source": [
    "print(\"{} a {}\".format(h1.nom, h1.age))"
   ]
  },
  {
   "cell_type": "code",
   "execution_count": 116,
   "metadata": {},
   "outputs": [
    {
     "data": {
      "text/plain": [
       "'30 ans'"
      ]
     },
     "execution_count": 116,
     "metadata": {},
     "output_type": "execute_result"
    }
   ],
   "source": [
    "h1.age"
   ]
  },
  {
   "cell_type": "code",
   "execution_count": 117,
   "metadata": {},
   "outputs": [
    {
     "name": "stdout",
     "output_type": "stream",
     "text": [
      "création d'un nouvel humain : son nom est bébé.\n"
     ]
    }
   ],
   "source": [
    "h2 = Human(\"bébé\", 1)"
   ]
  },
  {
   "cell_type": "code",
   "execution_count": 119,
   "metadata": {},
   "outputs": [
    {
     "data": {
      "text/plain": [
       "'1 an'"
      ]
     },
     "execution_count": 119,
     "metadata": {},
     "output_type": "execute_result"
    }
   ],
   "source": [
    "h2.age "
   ]
  },
  {
   "cell_type": "markdown",
   "metadata": {},
   "source": [
    "## Setter"
   ]
  },
  {
   "cell_type": "markdown",
   "metadata": {},
   "source": [
    "Utilisation d'un setter pour s'assurer que l'input2 et donc l'attribut2 soit toujours un float"
   ]
  },
  {
   "cell_type": "code",
   "execution_count": 77,
   "metadata": {},
   "outputs": [],
   "source": [
    "class NdClss:\n",
    "    \n",
    "    def __init__(self, input1, input2):\n",
    "        \n",
    "        print(\"instanciation d'un objet de classe NdClss, de paramètre {} et {}\".format(input1, input2))\n",
    "        self.attribut1 = input1\n",
    "        self._attribut2 = input2\n",
    "        \n",
    "    #définition des fonction getter et setter de la propriété portant sur l'attribut 2\n",
    "        \n",
    "    def _getatt2(self):\n",
    "            \n",
    "        print(\"ce message s'affiche car la compilation du code passe par la fonction de la propriété afin \\nd'accéder à l'attribut2. L'attribut2 est : \\n\")\n",
    "        return self._attribut2\n",
    "        \n",
    "    def _setatt2(self, new_att2):\n",
    "        if type (new_att2) != float:\n",
    "            print(\"la nouvelle valeur de l'attribut doit être un float\")\n",
    "            pass\n",
    "        else :\n",
    "            self._attribut2 = new_att2\n",
    "    \n",
    "    #définition de la propriété \n",
    "    \n",
    "    attribut2 = property(_getatt2, _setatt2)\n",
    "    "
   ]
  },
  {
   "cell_type": "code",
   "execution_count": 56,
   "metadata": {},
   "outputs": [
    {
     "name": "stdout",
     "output_type": "stream",
     "text": [
      "instanciation d'un objet de classe NdClss, de paramètre 4 et 3.14\n"
     ]
    }
   ],
   "source": [
    "objet2 = NdClss(4, 3.14)"
   ]
  },
  {
   "cell_type": "code",
   "execution_count": 57,
   "metadata": {},
   "outputs": [
    {
     "data": {
      "text/plain": [
       "4"
      ]
     },
     "execution_count": 57,
     "metadata": {},
     "output_type": "execute_result"
    }
   ],
   "source": [
    "objet2.attribut1"
   ]
  },
  {
   "cell_type": "code",
   "execution_count": 58,
   "metadata": {},
   "outputs": [
    {
     "name": "stdout",
     "output_type": "stream",
     "text": [
      "ce message s'affiche car la compilation du code passe par la fonction de la propriété afin \n",
      "d'accéder à l'attribut2. L'attribut2 est : \n",
      "\n"
     ]
    },
    {
     "data": {
      "text/plain": [
       "3.14"
      ]
     },
     "execution_count": 58,
     "metadata": {},
     "output_type": "execute_result"
    }
   ],
   "source": [
    "objet2.attribut2"
   ]
  },
  {
   "cell_type": "code",
   "execution_count": 59,
   "metadata": {},
   "outputs": [
    {
     "name": "stdout",
     "output_type": "stream",
     "text": [
      "la nouvelle valeur de l'attribut doit être un float\n"
     ]
    }
   ],
   "source": [
    "objet2.attribut2 = -34"
   ]
  },
  {
   "cell_type": "code",
   "execution_count": 60,
   "metadata": {},
   "outputs": [
    {
     "name": "stdout",
     "output_type": "stream",
     "text": [
      "ce message s'affiche car la compilation du code passe par la fonction de la propriété afin \n",
      "d'accéder à l'attribut2. L'attribut2 est : \n",
      "\n",
      "3.14\n"
     ]
    }
   ],
   "source": [
    "print(objet2.attribut2)"
   ]
  },
  {
   "cell_type": "code",
   "execution_count": 62,
   "metadata": {},
   "outputs": [],
   "source": [
    "objet2.attribut2 = -34.2"
   ]
  },
  {
   "cell_type": "code",
   "execution_count": 63,
   "metadata": {},
   "outputs": [
    {
     "name": "stdout",
     "output_type": "stream",
     "text": [
      "ce message s'affiche car la compilation du code passe par la fonction de la propriété afin \n",
      "d'accéder à l'attribut2. L'attribut2 est : \n",
      "\n",
      "-34.2\n"
     ]
    }
   ],
   "source": [
    "print(objet2.attribut2)"
   ]
  },
  {
   "cell_type": "markdown",
   "metadata": {},
   "source": [
    "## Deleter"
   ]
  },
  {
   "cell_type": "code",
   "execution_count": 80,
   "metadata": {},
   "outputs": [],
   "source": [
    "class exemple_de_classe:\n",
    "    \n",
    "    def __init__(self, input1, input2):\n",
    "        \n",
    "        print(\"instanciation d'un objet de classe exemple_de_classe, de paramètre {} et {}\".format(input1, input2))\n",
    "        self.attribut1 = input1\n",
    "        self._attribut2 = input2\n",
    "        \n",
    "    #définition des fonction getter et setter de la propriété portant sur l'attribut 2\n",
    "        \n",
    "    def _getatt2(self):\n",
    "            \n",
    "        print(\"ce message s'affiche car la compilation du code passe par la fonction de la propriété afin \\nd'accéder à l'attribut2. L'attribut2 est : \\n\")\n",
    "        return self._attribut2\n",
    "        \n",
    "    def _setatt2(self, new_att2):\n",
    "        if type (new_att2) != float:\n",
    "            print(\"la nouvelle valeur de l'attribut doit être un float\")\n",
    "            pass\n",
    "        else :\n",
    "            self._attribut2 = new_att2\n",
    "            \n",
    "    def _delatt2(self):\n",
    "        del self._attribut2\n",
    "    \n",
    "    #définition de la propriété \n",
    "    \n",
    "    attribut2 = property(_getatt2, _setatt2, _delatt2)\n",
    "    "
   ]
  },
  {
   "cell_type": "code",
   "execution_count": 81,
   "metadata": {},
   "outputs": [
    {
     "name": "stdout",
     "output_type": "stream",
     "text": [
      "instanciation d'un objet de classe exemple_de_classe, de paramètre input1 et input2\n"
     ]
    }
   ],
   "source": [
    "chose = exemple_de_classe(\"input1\", 3.14)\n"
   ]
  },
  {
   "cell_type": "code",
   "execution_count": 83,
   "metadata": {},
   "outputs": [
    {
     "name": "stdout",
     "output_type": "stream",
     "text": [
      "ce message s'affiche car la compilation du code passe par la fonction de la propriété afin \n",
      "d'accéder à l'attribut2. L'attribut2 est : \n",
      "\n"
     ]
    },
    {
     "data": {
      "text/plain": [
       "'input2'"
      ]
     },
     "execution_count": 83,
     "metadata": {},
     "output_type": "execute_result"
    }
   ],
   "source": [
    "chose.attribut2"
   ]
  },
  {
   "cell_type": "code",
   "execution_count": 84,
   "metadata": {},
   "outputs": [
    {
     "name": "stdout",
     "output_type": "stream",
     "text": [
      "la nouvelle valeur de l'attribut doit être un float\n"
     ]
    }
   ],
   "source": [
    "chose.attribut2 = 5"
   ]
  },
  {
   "cell_type": "code",
   "execution_count": 85,
   "metadata": {},
   "outputs": [],
   "source": [
    "chose.attribut2 = 1.618"
   ]
  },
  {
   "cell_type": "code",
   "execution_count": 86,
   "metadata": {},
   "outputs": [
    {
     "name": "stdout",
     "output_type": "stream",
     "text": [
      "ce message s'affiche car la compilation du code passe par la fonction de la propriété afin \n",
      "d'accéder à l'attribut2. L'attribut2 est : \n",
      "\n"
     ]
    },
    {
     "data": {
      "text/plain": [
       "1.618"
      ]
     },
     "execution_count": 86,
     "metadata": {},
     "output_type": "execute_result"
    }
   ],
   "source": [
    "chose.attribut2"
   ]
  },
  {
   "cell_type": "code",
   "execution_count": 87,
   "metadata": {},
   "outputs": [],
   "source": [
    "del chose.attribut2"
   ]
  },
  {
   "cell_type": "code",
   "execution_count": 88,
   "metadata": {},
   "outputs": [
    {
     "name": "stdout",
     "output_type": "stream",
     "text": [
      "ce message s'affiche car la compilation du code passe par la fonction de la propriété afin \n",
      "d'accéder à l'attribut2. L'attribut2 est : \n",
      "\n"
     ]
    },
    {
     "ename": "AttributeError",
     "evalue": "'exemple_de_classe' object has no attribute '_attribut2'",
     "output_type": "error",
     "traceback": [
      "\u001b[0;31m---------------------------------------------------------------------------\u001b[0m",
      "\u001b[0;31mAttributeError\u001b[0m                            Traceback (most recent call last)",
      "\u001b[0;32m<ipython-input-88-9903ca49797e>\u001b[0m in \u001b[0;36m<module>\u001b[0;34m()\u001b[0m\n\u001b[0;32m----> 1\u001b[0;31m \u001b[0mchose\u001b[0m\u001b[0;34m.\u001b[0m\u001b[0mattribut2\u001b[0m\u001b[0;34m\u001b[0m\u001b[0;34m\u001b[0m\u001b[0m\n\u001b[0m",
      "\u001b[0;32m<ipython-input-80-0fed19fce76d>\u001b[0m in \u001b[0;36m_getatt2\u001b[0;34m(self)\u001b[0m\n\u001b[1;32m     12\u001b[0m \u001b[0;34m\u001b[0m\u001b[0m\n\u001b[1;32m     13\u001b[0m         \u001b[0mprint\u001b[0m\u001b[0;34m(\u001b[0m\u001b[0;34m\"ce message s'affiche car la compilation du code passe par la fonction de la propriété afin \\nd'accéder à l'attribut2. L'attribut2 est : \\n\"\u001b[0m\u001b[0;34m)\u001b[0m\u001b[0;34m\u001b[0m\u001b[0;34m\u001b[0m\u001b[0m\n\u001b[0;32m---> 14\u001b[0;31m         \u001b[0;32mreturn\u001b[0m \u001b[0mself\u001b[0m\u001b[0;34m.\u001b[0m\u001b[0m_attribut2\u001b[0m\u001b[0;34m\u001b[0m\u001b[0;34m\u001b[0m\u001b[0m\n\u001b[0m\u001b[1;32m     15\u001b[0m \u001b[0;34m\u001b[0m\u001b[0m\n\u001b[1;32m     16\u001b[0m     \u001b[0;32mdef\u001b[0m \u001b[0m_setatt2\u001b[0m\u001b[0;34m(\u001b[0m\u001b[0mself\u001b[0m\u001b[0;34m,\u001b[0m \u001b[0mnew_att2\u001b[0m\u001b[0;34m)\u001b[0m\u001b[0;34m:\u001b[0m\u001b[0;34m\u001b[0m\u001b[0;34m\u001b[0m\u001b[0m\n",
      "\u001b[0;31mAttributeError\u001b[0m: 'exemple_de_classe' object has no attribute '_attribut2'"
     ]
    }
   ],
   "source": [
    "chose.attribut2"
   ]
  },
  {
   "cell_type": "markdown",
   "metadata": {},
   "source": [
    "On va incorporer cette exception \"AttributeError\" dans notre _getatt2"
   ]
  },
  {
   "cell_type": "code",
   "execution_count": 93,
   "metadata": {},
   "outputs": [],
   "source": [
    "class exemple_de_classe2:\n",
    "    \n",
    "    def __init__(self, input1, input2):\n",
    "        \n",
    "        print(\"instanciation d'un objet de classe exemple_de_classe2, de paramètre {} et {}\".format(input1, input2))\n",
    "        self.attribut1 = input1\n",
    "        self._attribut2 = input2\n",
    "        \n",
    "    #définition des fonction getter et setter de la propriété portant sur l'attribut 2\n",
    "        \n",
    "    def _getatt2(self):\n",
    "        try:\n",
    "            return self._attribut2\n",
    "        # ICI INCORPORATION DE NOTRE EXCEPTION ATTRIBUTE ERROR\n",
    "        except AttributeError:\n",
    "            print(\"attribut non existant\")\n",
    "    \n",
    "        \n",
    "    def _setatt2(self, new_att2):\n",
    "        if type (new_att2) != float:\n",
    "            print(\"la nouvelle valeur de l'attribut doit être un float\")\n",
    "            pass\n",
    "        else :\n",
    "            self._attribut2 = new_att2\n",
    "            \n",
    "            \n",
    "    def _delatt2(self):\n",
    "        del self._attribut2\n",
    "    \n",
    "    #définition de la propriété \n",
    "    \n",
    "    attribut2 = property(_getatt2, _setatt2, _delatt2)\n",
    "    "
   ]
  },
  {
   "cell_type": "code",
   "execution_count": 95,
   "metadata": {},
   "outputs": [
    {
     "name": "stdout",
     "output_type": "stream",
     "text": [
      "instanciation d'un objet de classe exemple_de_classe2, de paramètre publique et 12.4\n"
     ]
    }
   ],
   "source": [
    "res = exemple_de_classe2(\"publique\", 12.4)"
   ]
  },
  {
   "cell_type": "code",
   "execution_count": 96,
   "metadata": {},
   "outputs": [],
   "source": [
    "del res.attribut2"
   ]
  },
  {
   "cell_type": "code",
   "execution_count": 97,
   "metadata": {},
   "outputs": [
    {
     "name": "stdout",
     "output_type": "stream",
     "text": [
      "attribut non existant\n"
     ]
    }
   ],
   "source": [
    "res.attribut2"
   ]
  },
  {
   "cell_type": "markdown",
   "metadata": {},
   "source": [
    "## Helper"
   ]
  },
  {
   "cell_type": "code",
   "execution_count": 102,
   "metadata": {},
   "outputs": [],
   "source": [
    "class yet_an_other_class:\n",
    "    \n",
    "    \"\"\"\"\n",
    "    Ici une docstring\n",
    "    \"\"\"\n",
    "    \n",
    "    def __init__(self, input1, input2):\n",
    "        \n",
    "        print(\"instanciation d'un objet de classe yet_an_other_class, de paramètre {} et {}\".format(input1, input2))\n",
    "        self.attribut1 = input1\n",
    "        self._attribut2 = input2\n",
    "        \n",
    "    #définition des fonction getter et setter de la propriété portant sur l'attribut 2\n",
    "        \n",
    "    def _getatt2(self):\n",
    "        try:\n",
    "            return self._attribut2\n",
    "        except AttributeError:\n",
    "            print(\"attribut non existant\")\n",
    "    \n",
    "        \n",
    "    def _setatt2(self, new_att2):\n",
    "        if type (new_att2) != float:\n",
    "            print(\"la nouvelle valeur de l'attribut doit être un float\")\n",
    "            pass\n",
    "        else :\n",
    "            self._attribut2 = new_att2\n",
    "            \n",
    "            \n",
    "    def _delatt2(self):\n",
    "        del self._attribut2\n",
    "    \n",
    "    #définition de la propriété \n",
    "    \n",
    "    attribut2 = property(_getatt2, _setatt2, _delatt2, \"string s'affichant lorsqu'on utilise help(class) au niveau de la définition des attributs\")\n",
    "    \n",
    "\n",
    "help(yet_an_other_class)"
   ]
  },
  {
   "cell_type": "code",
   "execution_count": null,
   "metadata": {},
   "outputs": [],
   "source": []
  }
 ],
 "metadata": {
  "kernelspec": {
   "display_name": "Python 3",
   "language": "python",
   "name": "python3"
  },
  "language_info": {
   "codemirror_mode": {
    "name": "ipython",
    "version": 3
   },
   "file_extension": ".py",
   "mimetype": "text/x-python",
   "name": "python",
   "nbconvert_exporter": "python",
   "pygments_lexer": "ipython3",
   "version": "3.7.3"
  }
 },
 "nbformat": 4,
 "nbformat_minor": 2
}
